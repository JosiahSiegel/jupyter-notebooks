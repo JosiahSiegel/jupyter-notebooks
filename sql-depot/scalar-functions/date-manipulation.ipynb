{
    "metadata": {
        "kernelspec": {
            "name": "SQL",
            "display_name": "SQL",
            "language": "sql"
        },
        "language_info": {
            "name": "sql",
            "version": ""
        }
    },
    "nbformat_minor": 2,
    "nbformat": 4,
    "cells": [
        {
            "cell_type": "markdown",
            "source": [
                "Transform ASCII alphabet to 24 hour"
            ],
            "metadata": {
                "language": "sql",
                "azdata_cell_guid": "0e77f7ba-daae-4385-a737-c932d50f87e9"
            },
            "attachments": {}
        },
        {
            "cell_type": "code",
            "source": [
                "DECLARE @Code CHAR(1) = 'a';\r\n",
                "PRINT (ASCII(UPPER(@Code)) - 64)"
            ],
            "metadata": {
                "azdata_cell_guid": "bc4ca53b-8c26-4848-b8ca-27b01a4c0007",
                "language": "sql",
                "tags": []
            },
            "outputs": [
                {
                    "output_type": "display_data",
                    "data": {
                        "text/html": "1"
                    },
                    "metadata": {}
                },
                {
                    "output_type": "display_data",
                    "data": {
                        "text/html": "Total execution time: 00:00:00.082"
                    },
                    "metadata": {}
                }
            ],
            "execution_count": 8
        }
    ]
}